{
 "cells": [
  {
   "cell_type": "markdown",
   "id": "fd9d4bd1-6d33-4ec6-8be2-3aec0a739589",
   "metadata": {},
   "source": [
    "Question.1\n",
    "i.  a=\"string\"\n",
    "a is the variable containing string\n",
    "\n",
    "ii. b=[\"a\",\"b\",\"c\",\"d\"]\n",
    "b is the variable containing list\n",
    "\n",
    "iii.c=3.14\n",
    "c is the variable containing float\n",
    "\n",
    "iv. d=(\"a\",1,2,\"c\")\n",
    "d is the variable containing tuple"
   ]
  },
  {
   "cell_type": "markdown",
   "id": "373e83bd-dcd1-4407-964f-52a101bd5273",
   "metadata": {},
   "source": [
    "Question.2\n",
    "i.  var1='' \n",
    "  the type of var1 is string\n",
    "ii. var2='[DS,ML,Python]'\n",
    "  the type of var2 is string\n",
    "iii.var3= ['DS','ML','Python']\n",
    "  the type of var3 is list\n",
    "iv. var4=1\n",
    "  the type of var1 is int"
   ]
  },
  {
   "cell_type": "markdown",
   "id": "0b9f3c6f-ad62-4bcf-b777-8ac66664cc76",
   "metadata": {},
   "source": [
    "Question.3\n",
    "i. /\n",
    "division opeator   \n",
    "ii. %\n",
    "remainder operator gives the remainder after dividing\n",
    "iii. //\n",
    "gives the quotient after dividing\n",
    "iv. **\n",
    "a**b means- b to the power a\n"
   ]
  },
  {
   "cell_type": "code",
   "execution_count": 10,
   "id": "0f0de7ad-3923-4771-b485-ef89a32556fc",
   "metadata": {},
   "outputs": [
    {
     "name": "stdout",
     "output_type": "stream",
     "text": [
      "10\n",
      "a the data type is <class 'str'>\n",
      "4 the data type is <class 'int'>\n",
      "g the data type is <class 'str'>\n",
      "56.75 the data type is <class 'float'>\n",
      "8 the data type is <class 'int'>\n",
      "9 the data type is <class 'int'>\n",
      "learn the data type is <class 'str'>\n",
      "Data Science the data type is <class 'str'>\n",
      "['a', 'b', 1] the data type is <class 'list'>\n",
      "('earn', 1000) the data type is <class 'tuple'>\n"
     ]
    }
   ],
   "source": [
    "#Question no. 4\n",
    "l=[\"a\",4,\"g\",56.75,8,9,\"learn\",\"Data Science\",['a','b',1],('earn',1000)]\n",
    "for i in l:\n",
    "    print(i, \"the data type is\",type(i))"
   ]
  },
  {
   "cell_type": "code",
   "execution_count": 3,
   "id": "043c3315-75ad-4de7-b464-4a66c466b3e1",
   "metadata": {},
   "outputs": [
    {
     "name": "stdin",
     "output_type": "stream",
     "text": [
      "A =  8\n",
      "B =  2\n"
     ]
    },
    {
     "name": "stdout",
     "output_type": "stream",
     "text": [
      "4.0 times A can be divided by B\n"
     ]
    }
   ],
   "source": [
    "#Question no. 5\n",
    "A=int(input(\"A = \"))\n",
    "B=int(input(\"B = \"))\n",
    "while(A%B==0):\n",
    "    print(A/B,\"times A can be divided by B\")\n",
    "    break\n"
   ]
  },
  {
   "cell_type": "code",
   "execution_count": 9,
   "id": "55b40928-f3f0-46d4-a882-02b55513957e",
   "metadata": {},
   "outputs": [
    {
     "name": "stdout",
     "output_type": "stream",
     "text": [
      "the element is 10 and it is not divisable by 3\n",
      "the element is 1 and it is not divisable by 3\n",
      "the element is 21 and it is divisable by 3\n",
      "the element is 34 and it is not divisable by 3\n",
      "the element is 4 and it is not divisable by 3\n",
      "the element is 5 and it is not divisable by 3\n",
      "the element is 63 and it is divisable by 3\n",
      "the element is 7 and it is not divisable by 3\n",
      "the element is 28 and it is not divisable by 3\n",
      "the element is 9 and it is divisable by 3\n",
      "the element is 210 and it is divisable by 3\n",
      "the element is 11 and it is not divisable by 3\n",
      "the element is 12 and it is divisable by 3\n",
      "the element is 132 and it is divisable by 3\n",
      "the element is 14 and it is not divisable by 3\n",
      "the element is 15 and it is divisable by 3\n",
      "the element is 16 and it is not divisable by 3\n",
      "the element is 17 and it is not divisable by 3\n",
      "the element is 18 and it is divisable by 3\n",
      "the element is 19 and it is not divisable by 3\n",
      "the element is 420 and it is divisable by 3\n",
      "the element is 21 and it is divisable by 3\n",
      "the element is 22 and it is not divisable by 3\n",
      "the element is 203 and it is not divisable by 3\n",
      "the element is 24 and it is divisable by 3\n"
     ]
    }
   ],
   "source": [
    "#Question No. 6\n",
    "l=[10, 1, 21, 34, 4, 5, 63, 7, 28, 9, 210, 11, 12, 132, 14, 15, 16, 17, 18, 19, 420, 21, 22, 203, 24]\n",
    "for i in l:\n",
    "    if i%3==0:\n",
    "        print(f\"the element is {i} and it is divisable by 3\")\n",
    "    else:\n",
    "        print(f\"the element is {i} and it is not divisable by 3\")              \n"
   ]
  },
  {
   "cell_type": "code",
   "execution_count": 1,
   "id": "2a6aafd4-04ea-4cdf-9974-1fae6970cd54",
   "metadata": {},
   "outputs": [
    {
     "data": {
      "text/plain": [
       "['a', 'b', 5]"
      ]
     },
     "execution_count": 1,
     "metadata": {},
     "output_type": "execute_result"
    }
   ],
   "source": [
    "#Question No.7\n",
    "\"\"\"lists, sets, dictionaries are the examples of mutable datatype\n",
    "string, integer, float, tuple are the examples of immutable datatype\"\"\"\n",
    "l1=[\"a\",\"b\",5,2.3] #l1 is a list\n",
    "l1.pop()# we pop element from l1\n",
    "l1 # now wen we print the list the list gets change\n",
    "#but in cases of immutable data types we can't change the data we can only reassign it"
   ]
  },
  {
   "cell_type": "code",
   "execution_count": null,
   "id": "491437a1-8f9e-4967-a409-036bf730436b",
   "metadata": {},
   "outputs": [],
   "source": []
  }
 ],
 "metadata": {
  "kernelspec": {
   "display_name": "Python 3 (ipykernel)",
   "language": "python",
   "name": "python3"
  },
  "language_info": {
   "codemirror_mode": {
    "name": "ipython",
    "version": 3
   },
   "file_extension": ".py",
   "mimetype": "text/x-python",
   "name": "python",
   "nbconvert_exporter": "python",
   "pygments_lexer": "ipython3",
   "version": "3.10.8"
  }
 },
 "nbformat": 4,
 "nbformat_minor": 5
}
